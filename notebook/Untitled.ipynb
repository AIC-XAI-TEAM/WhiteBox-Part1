{
 "cells": [
  {
   "cell_type": "markdown",
   "metadata": {
    "toc": true
   },
   "source": [
    "<h1>Table of Contents<span class=\"tocSkip\"></span></h1>\n",
    "<div class=\"toc\"><ul class=\"toc-item\"><li><span><a href=\"#Deconv\" data-toc-modified-id=\"Deconv-1\"><span class=\"toc-item-num\">1&nbsp;&nbsp;</span>Deconv</a></span></li><li><span><a href=\"#Ensemble\" data-toc-modified-id=\"Ensemble-2\"><span class=\"toc-item-num\">2&nbsp;&nbsp;</span>Ensemble</a></span></li><li><span><a href=\"#MinMax-Scaling\" data-toc-modified-id=\"MinMax-Scaling-3\"><span class=\"toc-item-num\">3&nbsp;&nbsp;</span>MinMax Scaling</a></span></li><li><span><a href=\"#여러-이미지-minmax-scaling\" data-toc-modified-id=\"여러-이미지-minmax-scaling-4\"><span class=\"toc-item-num\">4&nbsp;&nbsp;</span>여러 이미지 minmax scaling</a></span></li></ul></div>"
   ]
  },
  {
   "cell_type": "code",
   "execution_count": 510,
   "metadata": {
    "ExecuteTime": {
     "end_time": "2019-11-19T08:14:29.591589Z",
     "start_time": "2019-11-19T08:14:29.587630Z"
    }
   },
   "outputs": [],
   "source": [
    "import torch\n",
    "from torch.autograd import Variable\n",
    "\n",
    "import sys\n",
    "sys.path.append('../code')\n",
    "\n",
    "from functools import partial\n",
    "\n",
    "import matplotlib.pyplot as plt\n",
    "\n",
    "from utils import get_samples\n",
    "from model import SimpleCNNDeconv"
   ]
  },
  {
   "cell_type": "code",
   "execution_count": 498,
   "metadata": {
    "ExecuteTime": {
     "end_time": "2019-11-19T08:09:42.440002Z",
     "start_time": "2019-11-19T08:09:42.364205Z"
    }
   },
   "outputs": [
    {
     "name": "stdout",
     "output_type": "stream",
     "text": [
      "Data Complete\n",
      "Model Complete\n"
     ]
    }
   ],
   "source": [
    "original_images_mnist, pre_images_mnist, mnist_classes, mnist_model = get_samples('mnist')"
   ]
  },
  {
   "cell_type": "code",
   "execution_count": 499,
   "metadata": {
    "ExecuteTime": {
     "end_time": "2019-11-19T08:09:42.679365Z",
     "start_time": "2019-11-19T08:09:42.676373Z"
    }
   },
   "outputs": [],
   "source": [
    "mnist_model = mnist_model.eval()"
   ]
  },
  {
   "cell_type": "code",
   "execution_count": 504,
   "metadata": {
    "ExecuteTime": {
     "end_time": "2019-11-19T08:12:43.436397Z",
     "start_time": "2019-11-19T08:12:43.432404Z"
    }
   },
   "outputs": [],
   "source": [
    "def hook(module, input, output, key):\n",
    "    if isinstance(module, torch.nn.MaxPool2d):\n",
    "        mnist_model.feature_maps[key] = output[0]\n",
    "        mnist_model.pool_locs[key] = output[1]\n",
    "    else:\n",
    "        mnist_model.feature_maps[key] = output\n",
    "        \n",
    "for idx, layer in enumerate(mnist_model._modules.get('features')):\n",
    "    layer.register_forward_hook(partial(hook, key=idx))"
   ]
  },
  {
   "cell_type": "code",
   "execution_count": 505,
   "metadata": {
    "ExecuteTime": {
     "end_time": "2019-11-19T08:12:44.761849Z",
     "start_time": "2019-11-19T08:12:44.734923Z"
    }
   },
   "outputs": [
    {
     "name": "stdout",
     "output_type": "stream",
     "text": [
      "torch.Size([5, 1, 28, 28])\n",
      "torch.Size([5, 10])\n",
      "tensor([[1., 0., 0., 0., 0., 0., 0., 0., 0., 0.],\n",
      "        [0., 1., 0., 0., 0., 0., 0., 0., 0., 0.],\n",
      "        [0., 0., 1., 0., 0., 0., 0., 0., 0., 0.],\n",
      "        [0., 0., 0., 1., 0., 0., 0., 0., 0., 0.],\n",
      "        [0., 0., 0., 0., 1., 0., 0., 0., 0., 0.]])\n",
      "torch.Size([5, 1, 28, 28])\n"
     ]
    }
   ],
   "source": [
    "num = 5\n",
    "img = pre_images_mnist[:num].clone()\n",
    "print(img.size())\n",
    "\n",
    "img = Variable(img, requires_grad=True)\n",
    "outputs = mnist_model(img)\n",
    "print(outputs.shape)\n",
    "\n",
    "mnist_model.zero_grad()\n",
    "\n",
    "grad_outputs = torch.zeros_like(outputs).scatter(1, torch.LongTensor(np.arange(num)).unsqueeze(1), 1).detach()\n",
    "print(grad_outputs)\n",
    "\n",
    "outputs.backward(gradient=grad_outputs)\n",
    "\n",
    "print(img.grad.size())"
   ]
  },
  {
   "cell_type": "code",
   "execution_count": 506,
   "metadata": {
    "ExecuteTime": {
     "end_time": "2019-11-19T08:12:48.260505Z",
     "start_time": "2019-11-19T08:12:48.255513Z"
    }
   },
   "outputs": [
    {
     "name": "stdout",
     "output_type": "stream",
     "text": [
      "torch.Size([5, 1, 28, 28])\n"
     ]
    }
   ],
   "source": [
    "results = img.grad\n",
    "print(results.size())"
   ]
  },
  {
   "cell_type": "markdown",
   "metadata": {},
   "source": [
    "# Deconv"
   ]
  },
  {
   "cell_type": "code",
   "execution_count": 509,
   "metadata": {
    "ExecuteTime": {
     "end_time": "2019-11-19T08:12:54.860864Z",
     "start_time": "2019-11-19T08:12:54.856875Z"
    }
   },
   "outputs": [
    {
     "data": {
      "text/plain": [
       "torch.Size([5, 32, 14, 14])"
      ]
     },
     "execution_count": 509,
     "metadata": {},
     "output_type": "execute_result"
    }
   ],
   "source": [
    "mnist_model.pool_locs[3].shape"
   ]
  },
  {
   "cell_type": "code",
   "execution_count": 511,
   "metadata": {
    "ExecuteTime": {
     "end_time": "2019-11-19T08:15:03.179864Z",
     "start_time": "2019-11-19T08:15:03.175872Z"
    }
   },
   "outputs": [],
   "source": [
    "deconv_mnist = SimpleCNNDeconv('mnist')"
   ]
  },
  {
   "cell_type": "code",
   "execution_count": 521,
   "metadata": {
    "ExecuteTime": {
     "end_time": "2019-11-19T08:18:22.674725Z",
     "start_time": "2019-11-19T08:18:22.668741Z"
    }
   },
   "outputs": [
    {
     "name": "stdout",
     "output_type": "stream",
     "text": [
      "(5, 28, 28)\n"
     ]
    }
   ],
   "source": [
    "outputs = deconv_mnist(mnist_model.feature_maps[0], 0, mnist_model.pool_locs)\n",
    "outputs = outputs.squeeze().detach().numpy()\n",
    "print(outputs.shape)"
   ]
  },
  {
   "cell_type": "code",
   "execution_count": 522,
   "metadata": {
    "ExecuteTime": {
     "end_time": "2019-11-19T08:18:23.540412Z",
     "start_time": "2019-11-19T08:18:23.012821Z"
    }
   },
   "outputs": [
    {
     "data": {
      "image/png": "[encoded data removed]",
      "text/plain": [
       "<Figure size 1080x360 with 5 Axes>"
      ]
     },
     "metadata": {
      "needs_background": "light"
     },
     "output_type": "display_data"
    }
   ],
   "source": [
    "f, ax = plt.subplots(1,5, figsize=(15,5))\n",
    "for i in range(5):\n",
    "    ax[i].imshow(outputs[i], 'gray')"
   ]
  },
  {
   "cell_type": "markdown",
   "metadata": {},
   "source": [
    "# Ensemble"
   ]
  },
  {
   "cell_type": "code",
   "execution_count": 418,
   "metadata": {
    "ExecuteTime": {
     "end_time": "2019-11-19T05:47:54.663830Z",
     "start_time": "2019-11-19T05:47:54.660825Z"
    }
   },
   "outputs": [],
   "source": [
    "mins = pre_images_mnist.detach().numpy().min(axis=(2,3))\n",
    "maxs = pre_images_mnist.detach().numpy().max(axis=(2,3))"
   ]
  },
  {
   "cell_type": "code",
   "execution_count": 431,
   "metadata": {
    "ExecuteTime": {
     "end_time": "2019-11-19T05:55:34.724785Z",
     "start_time": "2019-11-19T05:55:34.718801Z"
    }
   },
   "outputs": [
    {
     "name": "stdout",
     "output_type": "stream",
     "text": [
      "(10,)\n"
     ]
    }
   ],
   "source": [
    "mean = 0\n",
    "sigma = 3\n",
    "sigma = sigma / (mins - maxs)\n",
    "sigma = sigma.squeeze()\n",
    "print(sigma.shape)"
   ]
  },
  {
   "cell_type": "code",
   "execution_count": 432,
   "metadata": {
    "ExecuteTime": {
     "end_time": "2019-11-19T05:55:34.959158Z",
     "start_time": "2019-11-19T05:55:34.951179Z"
    }
   },
   "outputs": [
    {
     "name": "stdout",
     "output_type": "stream",
     "text": [
      "mean shape:  (10,)\n",
      "sigma shape:  (10,)\n"
     ]
    }
   ],
   "source": [
    "mean = np.array([mean] * sigma.shape[0])\n",
    "print('mean shape: ',mean.shape)\n",
    "print('sigma shape: ',sigma.shape)"
   ]
  },
  {
   "cell_type": "code",
   "execution_count": 466,
   "metadata": {
    "ExecuteTime": {
     "end_time": "2019-11-19T06:07:27.639718Z",
     "start_time": "2019-11-19T06:07:27.635729Z"
    }
   },
   "outputs": [],
   "source": [
    "def normal_dist(img,m,std):\n",
    "    return torch.zeros_like(img).normal_(m,std**2).numpy()"
   ]
  },
  {
   "cell_type": "code",
   "execution_count": 469,
   "metadata": {
    "ExecuteTime": {
     "end_time": "2019-11-19T06:07:38.532638Z",
     "start_time": "2019-11-19T06:07:38.527679Z"
    }
   },
   "outputs": [],
   "source": [
    "t = np.array(list(map(normal_dist, pre_images_mnist, mean, sigma)))"
   ]
  },
  {
   "cell_type": "code",
   "execution_count": 494,
   "metadata": {
    "ExecuteTime": {
     "end_time": "2019-11-19T06:13:58.563455Z",
     "start_time": "2019-11-19T06:13:58.558469Z"
    }
   },
   "outputs": [
    {
     "data": {
      "text/plain": [
       "torch.Size([10, 1, 28, 28])"
      ]
     },
     "execution_count": 494,
     "metadata": {},
     "output_type": "execute_result"
    }
   ],
   "source": [
    "torch.Tensor(t).size()"
   ]
  },
  {
   "cell_type": "markdown",
   "metadata": {},
   "source": [
    "# MinMax Scaling"
   ]
  },
  {
   "cell_type": "code",
   "execution_count": 495,
   "metadata": {
    "ExecuteTime": {
     "end_time": "2019-11-19T06:21:14.330594Z",
     "start_time": "2019-11-19T06:21:14.326613Z"
    }
   },
   "outputs": [],
   "source": [
    "results = results.numpy()"
   ]
  },
  {
   "cell_type": "code",
   "execution_count": 496,
   "metadata": {
    "ExecuteTime": {
     "end_time": "2019-11-19T06:21:14.586909Z",
     "start_time": "2019-11-19T06:21:14.579931Z"
    }
   },
   "outputs": [
    {
     "name": "stdout",
     "output_type": "stream",
     "text": [
      "(5, 1, 1)\n",
      "(5, 1, 1)\n"
     ]
    }
   ],
   "source": [
    "mins = np.min(results, axis=(1,2,3))\n",
    "mins = mins.reshape(mins.shape + (1,1,))\n",
    "\n",
    "maxs = np.max(results, axis=(1,2,3))\n",
    "maxs = maxs.reshape(maxs.shape + (1,1,))\n",
    "\n",
    "print(mins.shape)\n",
    "print(maxs.shape)"
   ]
  },
  {
   "cell_type": "code",
   "execution_count": 359,
   "metadata": {
    "ExecuteTime": {
     "end_time": "2019-11-19T05:17:31.700786Z",
     "start_time": "2019-11-19T05:17:31.696796Z"
    }
   },
   "outputs": [],
   "source": [
    "re_results = (results - mins)/(maxs - mins)"
   ]
  },
  {
   "cell_type": "code",
   "execution_count": 360,
   "metadata": {
    "ExecuteTime": {
     "end_time": "2019-11-19T05:17:32.109692Z",
     "start_time": "2019-11-19T05:17:32.087779Z"
    }
   },
   "outputs": [
    {
     "name": "stdout",
     "output_type": "stream",
     "text": [
      "[0]min :  0.0\n",
      "[0]max :  1.0\n",
      "[1]min :  0.0\n",
      "[1]max :  1.0\n",
      "[2]min :  0.0\n",
      "[2]max :  1.0\n",
      "[3]min :  0.0\n",
      "[3]max :  1.0\n",
      "[4]min :  0.0\n",
      "[4]max :  1.0\n"
     ]
    }
   ],
   "source": [
    "for i in range(5):\n",
    "    print(f'[{i}]min : ',re_results[i].min())\n",
    "    print(f'[{i}]max : ',re_results[i].max())"
   ]
  },
  {
   "cell_type": "code",
   "execution_count": 339,
   "metadata": {
    "ExecuteTime": {
     "end_time": "2019-11-19T05:10:42.022487Z",
     "start_time": "2019-11-19T05:10:41.558753Z"
    }
   },
   "outputs": [
    {
     "data": {
      "image/png": "[encoded data removed]",
      "text/plain": [
       "<Figure size 1080x360 with 5 Axes>"
      ]
     },
     "metadata": {
      "needs_background": "light"
     },
     "output_type": "display_data"
    }
   ],
   "source": [
    "f, ax = plt.subplots(1,5,figsize=(15,5))\n",
    "for i in range(5):\n",
    "    ax[i].imshow(re_results[i].squeeze(), 'gray')"
   ]
  },
  {
   "cell_type": "markdown",
   "metadata": {},
   "source": [
    "# 여러 이미지 minmax scaling"
   ]
  },
  {
   "cell_type": "code",
   "execution_count": 277,
   "metadata": {
    "ExecuteTime": {
     "end_time": "2019-11-19T04:53:16.218767Z",
     "start_time": "2019-11-19T04:53:16.212768Z"
    }
   },
   "outputs": [
    {
     "name": "stdout",
     "output_type": "stream",
     "text": [
      "(3, 1, 3, 3)\n",
      "[[[[1 2 3]\n",
      "   [1 2 3]\n",
      "   [1 2 3]]]\n",
      "\n",
      "\n",
      " [[[4 5 6]\n",
      "   [4 5 6]\n",
      "   [4 5 6]]]\n",
      "\n",
      "\n",
      " [[[7 8 9]\n",
      "   [7 8 9]\n",
      "   [7 8 9]]]]\n"
     ]
    }
   ],
   "source": [
    "temp = np.array([\n",
    "    [[[1,2,3],[1,2,3],[1,2,3]]],\n",
    "    [[[4,5,6],[4,5,6],[4,5,6]]],\n",
    "    [[[7,8,9],[7,8,9],[7,8,9]]]\n",
    "])\n",
    "print(temp.shape)\n",
    "print(temp)"
   ]
  },
  {
   "cell_type": "code",
   "execution_count": 313,
   "metadata": {
    "ExecuteTime": {
     "end_time": "2019-11-19T05:04:27.344806Z",
     "start_time": "2019-11-19T05:04:27.337826Z"
    }
   },
   "outputs": [
    {
     "name": "stdout",
     "output_type": "stream",
     "text": [
      "(3, 1, 1, 1)\n",
      "[[[[1]]]\n",
      "\n",
      "\n",
      " [[[4]]]\n",
      "\n",
      "\n",
      " [[[7]]]]\n"
     ]
    }
   ],
   "source": [
    "mul = np.array([[[[1]]],[[[4]]],[[[7]]]])\n",
    "print(mul.shape)\n",
    "print(mul)"
   ]
  },
  {
   "cell_type": "code",
   "execution_count": 314,
   "metadata": {
    "ExecuteTime": {
     "end_time": "2019-11-19T05:04:27.781663Z",
     "start_time": "2019-11-19T05:04:27.776653Z"
    }
   },
   "outputs": [
    {
     "name": "stdout",
     "output_type": "stream",
     "text": [
      "(3, 1, 3, 3)\n",
      "[[[[ 1  2  3]\n",
      "   [ 1  2  3]\n",
      "   [ 1  2  3]]]\n",
      "\n",
      "\n",
      " [[[16 20 24]\n",
      "   [16 20 24]\n",
      "   [16 20 24]]]\n",
      "\n",
      "\n",
      " [[[49 56 63]\n",
      "   [49 56 63]\n",
      "   [49 56 63]]]]\n"
     ]
    }
   ],
   "source": [
    "print((temp * mul).shape)\n",
    "print(temp*mul)"
   ]
  }
 ],
 "metadata": {
  "hide_input": false,
  "kernelspec": {
   "display_name": "Python 3",
   "language": "python",
   "name": "python3"
  },
  "language_info": {
   "codemirror_mode": {
    "name": "ipython",
    "version": 3
   },
   "file_extension": ".py",
   "mimetype": "text/x-python",
   "name": "python",
   "nbconvert_exporter": "python",
   "pygments_lexer": "ipython3",
   "version": "3.7.3"
  },
  "toc": {
   "base_numbering": 1,
   "nav_menu": {},
   "number_sections": true,
   "sideBar": true,
   "skip_h1_title": false,
   "title_cell": "Table of Contents",
   "title_sidebar": "Contents",
   "toc_cell": true,
   "toc_position": {},
   "toc_section_display": true,
   "toc_window_display": false
  },
  "varInspector": {
   "cols": {
    "lenName": 16,
    "lenType": 16,
    "lenVar": 40
   },
   "kernels_config": {
    "python": {
     "delete_cmd_postfix": "",
     "delete_cmd_prefix": "del ",
     "library": "var_list.py",
     "varRefreshCmd": "print(var_dic_list())"
    },
    "r": {
     "delete_cmd_postfix": ") ",
     "delete_cmd_prefix": "rm(",
     "library": "var_list.r",
     "varRefreshCmd": "cat(var_dic_list()) "
    }
   },
   "types_to_exclude": [
    "module",
    "function",
    "builtin_function_or_method",
    "instance",
    "_Feature"
   ],
   "window_display": false
  }
 },
 "nbformat": 4,
 "nbformat_minor": 2
}
